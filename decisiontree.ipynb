{
 "cells": [
  {
   "cell_type": "code",
   "execution_count": 2,
   "metadata": {},
   "outputs": [
    {
     "name": "stdout",
     "output_type": "stream",
     "text": [
      "Defaulting to user installation because normal site-packages is not writeable\n",
      "Collecting pandas\n",
      "  Using cached pandas-2.2.3-cp39-cp39-macosx_11_0_arm64.whl (11.3 MB)\n",
      "Collecting numpy>=1.22.4\n",
      "  Using cached numpy-2.0.2-cp39-cp39-macosx_11_0_arm64.whl (13.7 MB)\n",
      "Collecting tzdata>=2022.7\n",
      "  Downloading tzdata-2025.1-py2.py3-none-any.whl (346 kB)\n",
      "\u001b[K     |████████████████████████████████| 346 kB 2.9 MB/s eta 0:00:01\n",
      "\u001b[?25hCollecting pytz>=2020.1\n",
      "  Using cached pytz-2024.2-py2.py3-none-any.whl (508 kB)\n",
      "Collecting python-dateutil>=2.8.2\n",
      "  Using cached python_dateutil-2.9.0.post0-py2.py3-none-any.whl (229 kB)\n",
      "Collecting six>=1.5\n",
      "  Downloading six-1.17.0-py2.py3-none-any.whl (11 kB)\n",
      "Installing collected packages: six, tzdata, pytz, python-dateutil, numpy, pandas\n",
      "  Attempting uninstall: tzdata\n",
      "    Found existing installation: tzdata 2024.2\n",
      "    Uninstalling tzdata-2024.2:\n",
      "      Successfully uninstalled tzdata-2024.2\n",
      "  Attempting uninstall: pytz\n",
      "    Found existing installation: pytz 2024.2\n",
      "    Uninstalling pytz-2024.2:\n",
      "      Successfully uninstalled pytz-2024.2\n",
      "  Attempting uninstall: python-dateutil\n",
      "    Found existing installation: python-dateutil 2.9.0.post0\n",
      "    Uninstalling python-dateutil-2.9.0.post0:\n",
      "      Successfully uninstalled python-dateutil-2.9.0.post0\n",
      "  Attempting uninstall: numpy\n",
      "    Found existing installation: numpy 2.0.2\n",
      "    Uninstalling numpy-2.0.2:\n",
      "      Successfully uninstalled numpy-2.0.2\n",
      "  Attempting uninstall: pandas\n",
      "    Found existing installation: pandas 2.2.3\n",
      "    Uninstalling pandas-2.2.3:\n",
      "      Successfully uninstalled pandas-2.2.3\n",
      "Successfully installed numpy-2.0.2 pandas-2.2.3 python-dateutil-2.9.0.post0 pytz-2024.2 six-1.17.0 tzdata-2025.1\n",
      "\u001b[33mWARNING: You are using pip version 21.2.4; however, version 24.3.1 is available.\n",
      "You should consider upgrading via the '/Library/Developer/CommandLineTools/usr/bin/python3 -m pip install --upgrade pip' command.\u001b[0m\n",
      "Note: you may need to restart the kernel to use updated packages.\n"
     ]
    }
   ],
   "source": [
    "pip install --force-reinstall pandas\n"
   ]
  },
  {
   "cell_type": "code",
   "execution_count": 3,
   "metadata": {},
   "outputs": [
    {
     "name": "stdout",
     "output_type": "stream",
     "text": [
      "Decision Tree Classifier Report:\n",
      "              precision    recall  f1-score   support\n",
      "\n",
      "       False       0.78      0.79      0.78     98809\n",
      "        True       0.91      0.91      0.91    239192\n",
      "\n",
      "    accuracy                           0.87    338001\n",
      "   macro avg       0.84      0.85      0.85    338001\n",
      "weighted avg       0.87      0.87      0.87    338001\n",
      "\n",
      "Random Forest Classifier Report:\n",
      "              precision    recall  f1-score   support\n",
      "\n",
      "       False       0.90      0.79      0.84     98809\n",
      "        True       0.92      0.97      0.94    239192\n",
      "\n",
      "    accuracy                           0.91    338001\n",
      "   macro avg       0.91      0.88      0.89    338001\n",
      "weighted avg       0.91      0.91      0.91    338001\n",
      "\n",
      "Decision Tree Accuracy: 0.8715270073165464\n",
      "Random Forest Accuracy: 0.9126333945757557\n"
     ]
    }
   ],
   "source": [
    "import pandas as pd\n",
    "from sklearn.model_selection import train_test_split\n",
    "from sklearn.tree import DecisionTreeClassifier\n",
    "from sklearn.ensemble import RandomForestClassifier\n",
    "from sklearn.metrics import accuracy_score, classification_report\n",
    "from sklearn.preprocessing import LabelEncoder\n",
    "\n",
    "file_path = \"/Users/ketki/Downloads/MJD_TRAIN_PROCESSED.csv\" \n",
    "data = pd.read_csv(file_path)\n",
    "\n",
    "X = data.drop(columns=['lq'])\n",
    "y = data['lq']\n",
    "\n",
    "if y.dtypes == 'object':\n",
    "    label_encoder = LabelEncoder()\n",
    "    y = label_encoder.fit_transform(y)\n",
    "\n",
    "X_train, X_test, y_train, y_test = train_test_split(X, y, test_size=0.2, random_state=42)\n",
    "\n",
    "decision_tree = DecisionTreeClassifier(random_state=42)\n",
    "decision_tree.fit(X_train, y_train)\n",
    "\n",
    "dt_predictions = decision_tree.predict(X_test)\n",
    "print(\"Decision Tree Classifier Report:\")\n",
    "print(classification_report(y_test, dt_predictions))\n",
    "\n",
    "random_forest = RandomForestClassifier(random_state=42, n_estimators=100)\n",
    "random_forest.fit(X_train, y_train)\n",
    "\n",
    "rf_predictions = random_forest.predict(X_test)\n",
    "print(\"Random Forest Classifier Report:\")\n",
    "print(classification_report(y_test, rf_predictions))\n",
    "\n",
    "print(f\"Decision Tree Accuracy: {accuracy_score(y_test, dt_predictions)}\")\n",
    "print(f\"Random Forest Accuracy: {accuracy_score(y_test, rf_predictions)}\")\n"
   ]
  },
  {
   "cell_type": "code",
   "execution_count": null,
   "metadata": {},
   "outputs": [],
   "source": [
    "\n"
   ]
  },
  {
   "cell_type": "code",
   "execution_count": null,
   "metadata": {},
   "outputs": [],
   "source": []
  },
  {
   "cell_type": "code",
   "execution_count": null,
   "metadata": {},
   "outputs": [],
   "source": []
  }
 ],
 "metadata": {
  "kernelspec": {
   "display_name": "Python 3",
   "language": "python",
   "name": "python3"
  },
  "language_info": {
   "codemirror_mode": {
    "name": "ipython",
    "version": 3
   },
   "file_extension": ".py",
   "mimetype": "text/x-python",
   "name": "python",
   "nbconvert_exporter": "python",
   "pygments_lexer": "ipython3",
   "version": "3.9.6"
  }
 },
 "nbformat": 4,
 "nbformat_minor": 2
}
